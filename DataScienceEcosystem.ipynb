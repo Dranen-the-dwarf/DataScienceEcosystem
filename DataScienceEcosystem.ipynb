{
 "cells": [
  {
   "cell_type": "markdown",
   "id": "677c964d",
   "metadata": {},
   "source": [
    "# Data Science Tools and Ecosystem"
   ]
  },
  {
   "cell_type": "markdown",
   "id": "6456414c",
   "metadata": {},
   "source": [
    "## Author\n",
    "Brian Parmer"
   ]
  },
  {
   "cell_type": "markdown",
   "id": "3dec8dc9",
   "metadata": {},
   "source": [
    "# In this notebook, Data Science Tools and Ecosystem are summarized."
   ]
  },
  {
   "cell_type": "markdown",
   "id": "e07841ab",
   "metadata": {},
   "source": [
    "# Objectives:\n",
    "* Learn Popular Data Science Languages\n",
    "* Learn commonly used DS libraries\n",
    "* Display Table"
   ]
  },
  {
   "cell_type": "markdown",
   "id": "64e39fb1",
   "metadata": {},
   "source": [
    "# Some of the popular languages that Data Scientists use are:\n",
    "## 1. Python\n",
    "## 2. R\n",
    "## 3. SQL\n",
    "## 4. Julia\n",
    "## 5. C/C++\n"
   ]
  },
  {
   "cell_type": "markdown",
   "id": "502473ec",
   "metadata": {},
   "source": [
    "# Some of the commonly used libraries used by Data Scientists include:\n",
    "## 1. NumPy\n",
    "## 2. SciPy\n",
    "## 3. Pandas\n",
    "## 4. PyTorch\n",
    "## 5. SciKit-Learn\n",
    "## 6. Matplotlib\n",
    "## 7. Plotly\n"
   ]
  },
  {
   "cell_type": "markdown",
   "id": "441e1454",
   "metadata": {},
   "source": [
    "|Data Science Tools|\n",
    "|:----------------:|\n",
    "|Jupyter Notebooks|\n",
    "|RStudio|\n",
    "|GitHub|\n"
   ]
  },
  {
   "cell_type": "markdown",
   "id": "2eec1a32",
   "metadata": {},
   "source": [
    "### Below are a few examples if evaluating arithmetic expressions in Python."
   ]
  },
  {
   "cell_type": "code",
   "execution_count": 6,
   "id": "259d7f2d",
   "metadata": {},
   "outputs": [
    {
     "data": {
      "text/plain": [
       "17"
      ]
     },
     "execution_count": 6,
     "metadata": {},
     "output_type": "execute_result"
    }
   ],
   "source": [
    "# \"This is a simple arithmetic expression to multiply then add integers\"\n",
    "(3*4)+5"
   ]
  },
  {
   "cell_type": "code",
   "execution_count": 7,
   "id": "a689eea5",
   "metadata": {},
   "outputs": [
    {
     "data": {
      "text/plain": [
       "3.3333333333333335"
      ]
     },
     "execution_count": 7,
     "metadata": {},
     "output_type": "execute_result"
    }
   ],
   "source": [
    "# \"This will convert 200 minutes to hours by dividing by 60\"\n",
    "200/60"
   ]
  },
  {
   "cell_type": "markdown",
   "id": "93fe58db",
   "metadata": {},
   "source": []
  }
 ],
 "metadata": {
  "kernelspec": {
   "display_name": "Python 3 (ipykernel)",
   "language": "python",
   "name": "python3"
  },
  "language_info": {
   "codemirror_mode": {
    "name": "ipython",
    "version": 3
   },
   "file_extension": ".py",
   "mimetype": "text/x-python",
   "name": "python",
   "nbconvert_exporter": "python",
   "pygments_lexer": "ipython3",
   "version": "3.11.4"
  }
 },
 "nbformat": 4,
 "nbformat_minor": 5
}
